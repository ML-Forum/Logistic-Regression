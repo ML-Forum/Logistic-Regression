{
 "cells": [
  {
   "cell_type": "markdown",
   "metadata": {},
   "source": [
    "# Logistic Regression from Scratch!"
   ]
  },
  {
   "cell_type": "markdown",
   "metadata": {},
   "source": [
    "## Data"
   ]
  },
  {
   "cell_type": "markdown",
   "metadata": {},
   "source": [
    "The dataset used in this notebook is [synthetically](https://towardsdatascience.com/synthetic-data-generation-a-must-have-skill-for-new-data-scientists-915896c0c1ae \"Click to learn more!\") generated.The data consists of a single row of features and a single row of columns. The only feature is **CellGrowthRate** of a certain tumours. We will classify the tumours as *Benign* or *Malignant* \n",
    "<br>\n",
    "Let's first checkout the dataset."
   ]
  },
  {
   "cell_type": "code",
   "execution_count": null,
   "metadata": {},
   "outputs": [],
   "source": [
    "import pandas as pd\n",
    "import numpy as np\n",
    "import matplotlib.pyplot as plt"
   ]
  },
  {
   "cell_type": "code",
   "execution_count": null,
   "metadata": {},
   "outputs": [],
   "source": [
    "df1 = pd.read_csv('Features.csv')\n",
    "df2 = pd.read_csv('Labels.csv')"
   ]
  },
  {
   "cell_type": "code",
   "execution_count": null,
   "metadata": {},
   "outputs": [],
   "source": [
    "df1.head()"
   ]
  },
  {
   "cell_type": "code",
   "execution_count": null,
   "metadata": {},
   "outputs": [],
   "source": [
    "df2.head()"
   ]
  },
  {
   "cell_type": "code",
   "execution_count": null,
   "metadata": {},
   "outputs": [],
   "source": [
    "df = pd.concat([df1['CellGrowthRate'], df2['Labels']], axis = 1)\n",
    "df.head(10)"
   ]
  },
  {
   "cell_type": "code",
   "execution_count": null,
   "metadata": {},
   "outputs": [],
   "source": [
    "df2[df2['Labels'] == 'Malignant'] = 1\n",
    "df2[df2['Labels'] == 'Benign'] = 0\n",
    "df2.head()"
   ]
  },
  {
   "cell_type": "code",
   "execution_count": null,
   "metadata": {},
   "outputs": [],
   "source": [
    "X = df1['CellGrowthRate'].values\n",
    "Y = df2['Labels'].values\n",
    "X.shape"
   ]
  },
  {
   "cell_type": "code",
   "execution_count": null,
   "metadata": {},
   "outputs": [],
   "source": [
    "Y.shape\n"
   ]
  },
  {
   "cell_type": "code",
   "execution_count": null,
   "metadata": {},
   "outputs": [],
   "source": [
    "Y = Y.flatten()\n",
    "Y.shape"
   ]
  },
  {
   "cell_type": "markdown",
   "metadata": {},
   "source": [
    "## What's the deal? "
   ]
  },
  {
   "cell_type": "markdown",
   "metadata": {},
   "source": [
    "Just introduce something called **Activation Function**.\n",
    "<br>\n",
    "* What does it *do*?\n",
    "   + Maps the continuous values predicted by the Linear Regressor into two discrete values.\n",
    "* What is *Sigmoid*?\n",
    "   + It's the Activation Function we'll use for our Classifier (for Logistic Regression).\n",
    "* What happens with the *Cost Function*?\n",
    "   + For now, we need a different one."
   ]
  },
  {
   "cell_type": "markdown",
   "metadata": {},
   "source": [
    "<img src = \"comparis.png\">"
   ]
  },
  {
   "cell_type": "markdown",
   "metadata": {},
   "source": [
    "### Let's dig in!"
   ]
  },
  {
   "cell_type": "markdown",
   "metadata": {},
   "source": [
    "**SIGMOID**\n",
    "<br>\n",
    "<img src = \"sigmoid.png\">"
   ]
  },
  {
   "cell_type": "markdown",
   "metadata": {},
   "source": [
    "For any input the sigmoid function maps it to 0 or 1 using the following formula \n",
    "\n",
    "##  <center>$\\sigma (t) = \\frac{1}{1 + e^{-t}}$</center>\n",
    "##  <center>$h(y_p) = \\frac{1}{1 + e^{-y_p}}$</center>"
   ]
  },
  {
   "cell_type": "code",
   "execution_count": null,
   "metadata": {},
   "outputs": [],
   "source": [
    "def sigmoid(z):\n",
    "    s = (1 / (1 + np.exp(-z)))\n",
    "    return s"
   ]
  },
  {
   "cell_type": "markdown",
   "metadata": {},
   "source": [
    "**Cost Function**\n",
    "<br>\n",
    "## <center>$cost(y_p, y) = -ylog(y_p) - (1-y)log(1-y_p)$</center>"
   ]
  },
  {
   "cell_type": "markdown",
   "metadata": {},
   "source": [
    "**Cost over all samples**"
   ]
  },
  {
   "cell_type": "markdown",
   "metadata": {},
   "source": [
    "## <center>$J(\\theta) = -\\frac{1}{n}\\sum_{i=1}^{n} [y^ilog(y^i_p) + (1-y^i)log(1-y^i_p)] $</center>"
   ]
  },
  {
   "cell_type": "markdown",
   "metadata": {},
   "source": [
    "**Gradient**"
   ]
  },
  {
   "cell_type": "markdown",
   "metadata": {},
   "source": [
    "## <center> $\\frac{\\partial J(\\theta)}{\\partial \\theta} = \\frac{1}{n}\\sum_{i=1}^{n} (y^i_p - y^i)x^i $<center>"
   ]
  },
  {
   "cell_type": "code",
   "execution_count": null,
   "metadata": {},
   "outputs": [],
   "source": [
    "def loss(y_p, y):\n",
    "    x = -sum(y * np.log(y_p) + (1 - y) * np.log(1 - y_p))/y.shape[0]\n",
    "    return x"
   ]
  },
  {
   "cell_type": "code",
   "execution_count": null,
   "metadata": {},
   "outputs": [],
   "source": [
    "plt.scatter(X, Y, c = Y)"
   ]
  },
  {
   "cell_type": "code",
   "execution_count": null,
   "metadata": {},
   "outputs": [],
   "source": [
    "def fit(x, y):\n",
    "    m = 0\n",
    "    b = 0\n",
    "    lr = 0.02\n",
    "    n = y.shape[0]\n",
    "    dm = 0\n",
    "    db = 0\n",
    "    costs = []\n",
    "    for it in range(0, 200):\n",
    "        h = m*x + b\n",
    "        yp = sigmoid(h)\n",
    "        cost = loss(yp, y)\n",
    "        costs.append(cost)\n",
    "        #print(loss(yp, y))\n",
    "        dm = sum(x*(yp-y))/n\n",
    "        db = sum(yp-y)/n\n",
    "        m = m - lr * dm\n",
    "        b = b - lr * db\n",
    "    return costs, m, b\n",
    "        "
   ]
  },
  {
   "cell_type": "code",
   "execution_count": null,
   "metadata": {},
   "outputs": [],
   "source": [
    "costs, m, b = fit(X, Y)"
   ]
  },
  {
   "cell_type": "code",
   "execution_count": null,
   "metadata": {},
   "outputs": [],
   "source": [
    "pred = sigmoid(X*m+b)\n",
    "np.sum((pred>0.5).flatten()==Y)/Y.shape[0]\n",
    "#(train_pred>0.5).flatten()"
   ]
  },
  {
   "cell_type": "code",
   "execution_count": null,
   "metadata": {},
   "outputs": [],
   "source": [
    "plt.plot(costs)\n",
    "plt.xlabel('Iteration')\n",
    "plt.ylabel('Cost')"
   ]
  }
 ],
 "metadata": {
  "kernelspec": {
   "display_name": "Python 3",
   "language": "python",
   "name": "python3"
  },
  "language_info": {
   "codemirror_mode": {
    "name": "ipython",
    "version": 3
   },
   "file_extension": ".py",
   "mimetype": "text/x-python",
   "name": "python",
   "nbconvert_exporter": "python",
   "pygments_lexer": "ipython3",
   "version": "3.6.5"
  }
 },
 "nbformat": 4,
 "nbformat_minor": 2
}
